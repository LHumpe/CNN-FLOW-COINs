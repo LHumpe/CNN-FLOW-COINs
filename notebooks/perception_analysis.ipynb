{
 "cells": [
  {
   "cell_type": "markdown",
   "metadata": {},
   "source": [
    "Imports"
   ]
  },
  {
   "cell_type": "code",
   "execution_count": 1,
   "metadata": {
    "pycharm": {
     "name": "#%%\n"
    }
   },
   "outputs": [],
   "source": [
    "import pandas as pd\n",
    "import numpy as np\n",
    "import statsmodels.stats.inter_rater as IR"
   ]
  },
  {
   "cell_type": "markdown",
   "metadata": {},
   "source": [
    "Data Processing"
   ]
  },
  {
   "cell_type": "code",
   "execution_count": 2,
   "metadata": {
    "pycharm": {
     "name": "#%%\n"
    }
   },
   "outputs": [],
   "source": [
    "# Own Data\n",
    "df = pd.read_csv('Selction_Frame.csv', sep=';')\n",
    "#df.head()"
   ]
  },
  {
   "cell_type": "code",
   "execution_count": 3,
   "metadata": {
    "pycharm": {
     "name": "#%%\n"
    }
   },
   "outputs": [],
   "source": [
    "# Survey Data\n",
    "survey_df = pd.read_csv('responses.csv')\n",
    "#survey_df.head()"
   ]
  },
  {
   "cell_type": "code",
   "execution_count": 4,
   "metadata": {
    "pycharm": {
     "name": "#%%\n"
    }
   },
   "outputs": [],
   "source": [
    "# Transpose and Extract Survey Answers\n",
    "survey_answers = survey_df.transpose().iloc[1:151].reset_index(drop=True)\n",
    "survey_answers=survey_answers.add_suffix('_survey')\n",
    "participants = survey_answers.columns\n",
    "\n",
    "# Extract relevant data from own answers\n",
    "team_answers = df[['flow_prediction', 'flow_annotated', 'control_flow', 'control_no_flow']]\n",
    "\n",
    "# Combine Datasets\n",
    "answers = pd.concat([team_answers, survey_answers], ignore_index=False, axis=1)\n",
    "answers['model_label'] = answers['flow_prediction'].apply(lambda x: int(x>=0.5))"
   ]
  },
  {
   "cell_type": "code",
   "execution_count": 5,
   "metadata": {
    "pycharm": {
     "name": "#%%\n"
    }
   },
   "outputs": [],
   "source": [
    "answers_control=answers.loc[(answers['control_flow']==True) | (answers['control_no_flow']==True)]\n",
    "answers_no_control = answers.loc[(answers['control_flow']==False) & (answers['control_no_flow']==False)]"
   ]
  },
  {
   "cell_type": "markdown",
   "metadata": {
    "pycharm": {
     "name": "#%% md\n"
    }
   },
   "source": [
    "# Agreement Calculation"
   ]
  },
  {
   "cell_type": "markdown",
   "metadata": {
    "pycharm": {
     "name": "#%% md\n"
    }
   },
   "source": [
    "## Labelers"
   ]
  },
  {
   "cell_type": "code",
   "execution_count": 6,
   "metadata": {
    "pycharm": {
     "name": "#%%\n"
    }
   },
   "outputs": [],
   "source": [
    "agreement_control=dict()\n",
    "agreement_no_control=dict()\n",
    "agreement_complete=dict()\n",
    "for participant in participants:\n",
    "    agreement_control[participant]=(answers_control['flow_annotated'] == answers_control[participant]).mean()\n",
    "    agreement_no_control[participant]=(answers_no_control['flow_annotated'] == answers_no_control[participant]).mean()\n",
    "    agreement_complete[participant]=(answers['flow_annotated'] == answers[participant]).mean()"
   ]
  },
  {
   "cell_type": "code",
   "execution_count": 7,
   "metadata": {
    "pycharm": {
     "name": "#%%\n"
    }
   },
   "outputs": [
    {
     "name": "stdout",
     "output_type": "stream",
     "text": [
      "Averages:\n",
      "          complete  no_control  control\n",
      "0_survey  0.720000        0.74     0.68\n",
      "1_survey  0.666667        0.64     0.72\n",
      "2_survey  0.606667        0.59     0.64\n",
      "3_survey  0.706667        0.72     0.68\n",
      "4_survey  0.733333        0.73     0.74\n",
      "5_survey  0.713333        0.73     0.68\n",
      "6_survey  0.740000        0.72     0.78\n",
      "\n",
      "Summary Statistics:\n",
      "       complete  no_control   control\n",
      "count  7.000000    7.000000  7.000000\n",
      "mean   0.698095    0.695714  0.702857\n",
      "std    0.046780    0.057404  0.046803\n",
      "min    0.606667    0.590000  0.640000\n",
      "25%    0.686667    0.680000  0.680000\n",
      "50%    0.713333    0.720000  0.680000\n",
      "75%    0.726667    0.730000  0.730000\n",
      "max    0.740000    0.740000  0.780000\n"
     ]
    }
   ],
   "source": [
    "agreement_df_label = pd.concat(\n",
    "    [\n",
    "        pd.DataFrame.from_dict(agreement_complete, orient='index', columns=['complete']),\n",
    "        pd.DataFrame.from_dict(agreement_no_control, orient='index', columns=['no_control']),\n",
    "        pd.DataFrame.from_dict(agreement_control, orient='index', columns=['control'])\n",
    "    ], axis=1\n",
    ")\n",
    "print('Averages:')\n",
    "print(agreement_df_label)\n",
    "print('\\nSummary Statistics:')\n",
    "print(agreement_df_label.describe())"
   ]
  },
  {
   "cell_type": "markdown",
   "metadata": {
    "pycharm": {
     "name": "#%% md\n"
    }
   },
   "source": [
    "## Model"
   ]
  },
  {
   "cell_type": "code",
   "execution_count": 8,
   "metadata": {
    "pycharm": {
     "name": "#%%\n"
    }
   },
   "outputs": [],
   "source": [
    "agreement_control=dict()\n",
    "agreement_no_control=dict()\n",
    "agreement_complete=dict()\n",
    "for participant in participants:\n",
    "    agreement_control[participant]=(answers_control['model_label'] == answers_control[participant]).mean()\n",
    "    agreement_no_control[participant]=(answers_no_control['model_label'] == answers_no_control[participant]).mean()\n",
    "    agreement_complete[participant]=(answers['model_label'] == answers[participant]).mean()"
   ]
  },
  {
   "cell_type": "code",
   "execution_count": 9,
   "metadata": {
    "pycharm": {
     "name": "#%%\n"
    }
   },
   "outputs": [
    {
     "name": "stdout",
     "output_type": "stream",
     "text": [
      "Averages:\n",
      "          complete  no_control  control\n",
      "0_survey  0.660000        0.67     0.64\n",
      "1_survey  0.620000        0.55     0.76\n",
      "2_survey  0.613333        0.60     0.64\n",
      "3_survey  0.700000        0.69     0.72\n",
      "4_survey  0.673333        0.64     0.74\n",
      "5_survey  0.653333        0.62     0.72\n",
      "6_survey  0.626667        0.59     0.70\n",
      "\n",
      "Summary Statistics:\n",
      "       complete  no_control   control\n",
      "count  7.000000    7.000000  7.000000\n",
      "mean   0.649524    0.622857  0.702857\n",
      "std    0.031472    0.048206  0.046803\n",
      "min    0.613333    0.550000  0.640000\n",
      "25%    0.623333    0.595000  0.670000\n",
      "50%    0.653333    0.620000  0.720000\n",
      "75%    0.666667    0.655000  0.730000\n",
      "max    0.700000    0.690000  0.760000\n"
     ]
    }
   ],
   "source": [
    "agreement_df_model = pd.concat(\n",
    "    [\n",
    "        pd.DataFrame.from_dict(agreement_complete, orient='index', columns=['complete']),\n",
    "        pd.DataFrame.from_dict(agreement_no_control, orient='index', columns=['no_control']),\n",
    "        pd.DataFrame.from_dict(agreement_control, orient='index', columns=['control'])\n",
    "    ], axis=1\n",
    ")\n",
    "print('Averages:')\n",
    "print(agreement_df_model)\n",
    "print('\\nSummary Statistics:')\n",
    "print(agreement_df_model.describe())\n"
   ]
  },
  {
   "cell_type": "markdown",
   "metadata": {
    "pycharm": {
     "name": "#%% md\n"
    }
   },
   "source": [
    "# Control Group"
   ]
  },
  {
   "cell_type": "code",
   "execution_count": 10,
   "metadata": {
    "pycharm": {
     "name": "#%%\n"
    }
   },
   "outputs": [],
   "source": [
    "dupli = df['file_path']\n",
    "dupli = dupli[dupli.duplicated(keep=False)]\n",
    "dupli = dupli.groupby(list(dupli)).apply(lambda x: tuple(x.index)).tolist()"
   ]
  },
  {
   "cell_type": "code",
   "execution_count": 11,
   "metadata": {
    "pycharm": {
     "name": "#%%\n"
    }
   },
   "outputs": [
    {
     "name": "stdout",
     "output_type": "stream",
     "text": [
      "Averages:\n",
      "             0\n",
      "0_survey  68.0\n",
      "1_survey  64.0\n",
      "2_survey  92.0\n",
      "3_survey  84.0\n",
      "4_survey  76.0\n",
      "5_survey  84.0\n",
      "6_survey  90.0\n",
      "\n",
      "Summary Statistics:\n",
      "              0\n",
      "count  7.000000\n",
      "mean   0.797143\n",
      "std    0.107349\n",
      "min    0.640000\n",
      "25%    0.720000\n",
      "50%    0.840000\n",
      "75%    0.870000\n",
      "max    0.920000\n"
     ]
    }
   ],
   "source": [
    "control_measures=dict()\n",
    "for participant in participants:\n",
    "    sample = list()\n",
    "    for couple in dupli:\n",
    "        sample.append(answers.loc[couple[0], participant]==answers.loc[couple[1], participant])\n",
    "\n",
    "    control_measures[participant]=np.mean(sample)\n",
    "agreement_df_control = pd.DataFrame.from_dict(control_measures, orient='index')\n",
    "print('Averages:')\n",
    "print(agreement_df_control*100)\n",
    "print('\\nSummary Statistics:')\n",
    "print(agreement_df_control.describe())"
   ]
  },
  {
   "cell_type": "markdown",
   "metadata": {
    "pycharm": {
     "name": "#%% md\n"
    }
   },
   "source": [
    "# Kappas"
   ]
  },
  {
   "cell_type": "markdown",
   "metadata": {
    "pycharm": {
     "name": "#%% md\n"
    }
   },
   "source": [
    "## Full"
   ]
  },
  {
   "cell_type": "code",
   "execution_count": 12,
   "metadata": {
    "pycharm": {
     "name": "#%%\n"
    }
   },
   "outputs": [
    {
     "name": "stdout",
     "output_type": "stream",
     "text": [
      "Fleiss: 30.4\n",
      "Randolph’s: 31.67\n"
     ]
    }
   ],
   "source": [
    "kappa_data = answers.drop(columns=['flow_prediction','control_flow', 'control_no_flow','model_label'])\n",
    "ratings=pd.DataFrame()\n",
    "ratings['flow'] = kappa_data.sum(axis=1).astype(int)\n",
    "ratings['no_flow'] = (len(kappa_data.columns)- ratings['flow']).astype(int)\n",
    "print(\"Fleiss:\", round(IR.fleiss_kappa(ratings[['flow', 'no_flow']], method='fleiss') * 100, 2))\n",
    "print(\"Randolph’s:\", round(IR.fleiss_kappa(ratings[['flow', 'no_flow']], method='unif') * 100, 2))"
   ]
  },
  {
   "cell_type": "markdown",
   "metadata": {
    "pycharm": {
     "name": "#%% md\n"
    }
   },
   "source": [
    "## No Control"
   ]
  },
  {
   "cell_type": "code",
   "execution_count": 13,
   "metadata": {
    "pycharm": {
     "name": "#%%\n"
    }
   },
   "outputs": [
    {
     "name": "stdout",
     "output_type": "stream",
     "text": [
      "Fleiss: 29.55\n",
      "Randolph’s: 30.79\n"
     ]
    }
   ],
   "source": [
    "kappa_data = answers_no_control.drop(columns=['flow_prediction','control_flow', 'control_no_flow','model_label'])\n",
    "ratings=pd.DataFrame()\n",
    "ratings['flow'] = kappa_data.sum(axis=1).astype(int)\n",
    "ratings['no_flow'] = (len(kappa_data.columns)- ratings['flow']).astype(int)\n",
    "print(\"Fleiss:\", round(IR.fleiss_kappa(ratings[['flow', 'no_flow']], method='fleiss') * 100, 2))\n",
    "print(\"Randolph’s:\", round(IR.fleiss_kappa(ratings[['flow', 'no_flow']], method='unif') * 100, 2))"
   ]
  },
  {
   "cell_type": "markdown",
   "metadata": {},
   "source": [
    "# Cronbach"
   ]
  },
  {
   "cell_type": "markdown",
   "metadata": {},
   "source": [
    "https://learnaitech.com/how-to-compute-inter-rater-reliablity-metrics-cohens-kappa-fleisss-kappa-cronbach-alpha-kripndorff-alpha-scotts-pi-inter-class-correlation-in-python/"
   ]
  },
  {
   "cell_type": "code",
   "execution_count": 14,
   "metadata": {},
   "outputs": [],
   "source": [
    "import pingouin as pg"
   ]
  },
  {
   "cell_type": "code",
   "execution_count": 15,
   "metadata": {},
   "outputs": [
    {
     "data": {
      "text/plain": [
       "(0.9244152989228714, array([0.826, 0.982]))"
      ]
     },
     "execution_count": 15,
     "metadata": {},
     "output_type": "execute_result"
    }
   ],
   "source": [
    "pg.cronbach_alpha(data=kappa_data.transpose().apply(pd.to_numeric))"
   ]
  },
  {
   "cell_type": "code",
   "execution_count": 16,
   "metadata": {},
   "outputs": [],
   "source": [
    "def CronbachAlpha(itemscores):\n",
    "    itemscores = np.asarray(itemscores)\n",
    "    itemvars = itemscores.var(axis=1, ddof=1)\n",
    "    tscores = itemscores.sum(axis=0)\n",
    "    nitems = len(itemscores)\n",
    "\n",
    "    return nitems / (nitems-1.) * (1 - itemvars.sum() / tscores.var(ddof=1))"
   ]
  },
  {
   "cell_type": "code",
   "execution_count": 17,
   "metadata": {},
   "outputs": [
    {
     "data": {
      "text/plain": [
       "0.9244152989228714"
      ]
     },
     "execution_count": 17,
     "metadata": {},
     "output_type": "execute_result"
    }
   ],
   "source": [
    "CronbachAlpha(kappa_data)"
   ]
  },
  {
   "cell_type": "markdown",
   "metadata": {},
   "source": [
    "# kippendorf"
   ]
  },
  {
   "cell_type": "code",
   "execution_count": 18,
   "metadata": {},
   "outputs": [],
   "source": [
    "from nltk import agreement"
   ]
  },
  {
   "cell_type": "code",
   "execution_count": 19,
   "metadata": {},
   "outputs": [],
   "source": [
    "formatted_codes=list()\n",
    "i_rater=1\n",
    "for rater in kappa_data.columns:\n",
    "    i_row=1\n",
    "    for row in kappa_data.index:\n",
    "        formatted_codes.append([i_rater, i_row, kappa_data.loc[row, rater]])\n",
    "        i_row+=1\n",
    "    i_rater+=1"
   ]
  },
  {
   "cell_type": "code",
   "execution_count": 20,
   "metadata": {},
   "outputs": [
    {
     "name": "stdout",
     "output_type": "stream",
     "text": [
      "Krippendorff's alpha: 0.2963692032531854\n",
      "Scott's pi: 0.2954885639581326\n",
      "Fleiss's Kappa: 0.3027\n"
     ]
    }
   ],
   "source": [
    "ratingtask = agreement.AnnotationTask(data=formatted_codes)\n",
    "\n",
    "print('Krippendorff\\'s alpha:',ratingtask.alpha())\n",
    "print('Scott\\'s pi:',ratingtask.pi())\n",
    "print('Fleiss\\'s Kappa:',round(ratingtask.multi_kappa(),4))"
   ]
  }
 ],
 "metadata": {
  "kernelspec": {
   "display_name": "Python 3",
   "language": "python",
   "name": "python3"
  },
  "language_info": {
   "codemirror_mode": {
    "name": "ipython",
    "version": 3
   },
   "file_extension": ".py",
   "mimetype": "text/x-python",
   "name": "python",
   "nbconvert_exporter": "python",
   "pygments_lexer": "ipython3",
   "version": "3.8.6"
  }
 },
 "nbformat": 4,
 "nbformat_minor": 1
}
